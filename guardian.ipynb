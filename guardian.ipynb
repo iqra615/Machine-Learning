{
  "cells": [
    {
      "cell_type": "code",
      "execution_count": null,
      "id": "9bb49e8e",
      "metadata": {
        "id": "9bb49e8e"
      },
      "outputs": [],
      "source": [
        "import numpy as np\n",
        "import pandas as pd\n",
        "from math import isnan\n",
        "import matplotlib\n"
      ]
    },
    {
      "cell_type": "code",
      "source": [
        "from google.colab import files\n",
        "uploaded = files.upload()"
      ],
      "metadata": {
        "colab": {
          "base_uri": "https://localhost:8080/",
          "height": 74
        },
        "id": "chPp3aMguM-S",
        "outputId": "729add48-a175-48ae-936a-d053dbe7e3d7"
      },
      "id": "chPp3aMguM-S",
      "execution_count": null,
      "outputs": [
        {
          "output_type": "display_data",
          "data": {
            "text/plain": [
              "<IPython.core.display.HTML object>"
            ],
            "text/html": [
              "\n",
              "     <input type=\"file\" id=\"files-ce0798f8-53a2-4b9c-860a-5ddaed4597e7\" name=\"files[]\" multiple disabled\n",
              "        style=\"border:none\" />\n",
              "     <output id=\"result-ce0798f8-53a2-4b9c-860a-5ddaed4597e7\">\n",
              "      Upload widget is only available when the cell has been executed in the\n",
              "      current browser session. Please rerun this cell to enable.\n",
              "      </output>\n",
              "      <script>// Copyright 2017 Google LLC\n",
              "//\n",
              "// Licensed under the Apache License, Version 2.0 (the \"License\");\n",
              "// you may not use this file except in compliance with the License.\n",
              "// You may obtain a copy of the License at\n",
              "//\n",
              "//      http://www.apache.org/licenses/LICENSE-2.0\n",
              "//\n",
              "// Unless required by applicable law or agreed to in writing, software\n",
              "// distributed under the License is distributed on an \"AS IS\" BASIS,\n",
              "// WITHOUT WARRANTIES OR CONDITIONS OF ANY KIND, either express or implied.\n",
              "// See the License for the specific language governing permissions and\n",
              "// limitations under the License.\n",
              "\n",
              "/**\n",
              " * @fileoverview Helpers for google.colab Python module.\n",
              " */\n",
              "(function(scope) {\n",
              "function span(text, styleAttributes = {}) {\n",
              "  const element = document.createElement('span');\n",
              "  element.textContent = text;\n",
              "  for (const key of Object.keys(styleAttributes)) {\n",
              "    element.style[key] = styleAttributes[key];\n",
              "  }\n",
              "  return element;\n",
              "}\n",
              "\n",
              "// Max number of bytes which will be uploaded at a time.\n",
              "const MAX_PAYLOAD_SIZE = 100 * 1024;\n",
              "\n",
              "function _uploadFiles(inputId, outputId) {\n",
              "  const steps = uploadFilesStep(inputId, outputId);\n",
              "  const outputElement = document.getElementById(outputId);\n",
              "  // Cache steps on the outputElement to make it available for the next call\n",
              "  // to uploadFilesContinue from Python.\n",
              "  outputElement.steps = steps;\n",
              "\n",
              "  return _uploadFilesContinue(outputId);\n",
              "}\n",
              "\n",
              "// This is roughly an async generator (not supported in the browser yet),\n",
              "// where there are multiple asynchronous steps and the Python side is going\n",
              "// to poll for completion of each step.\n",
              "// This uses a Promise to block the python side on completion of each step,\n",
              "// then passes the result of the previous step as the input to the next step.\n",
              "function _uploadFilesContinue(outputId) {\n",
              "  const outputElement = document.getElementById(outputId);\n",
              "  const steps = outputElement.steps;\n",
              "\n",
              "  const next = steps.next(outputElement.lastPromiseValue);\n",
              "  return Promise.resolve(next.value.promise).then((value) => {\n",
              "    // Cache the last promise value to make it available to the next\n",
              "    // step of the generator.\n",
              "    outputElement.lastPromiseValue = value;\n",
              "    return next.value.response;\n",
              "  });\n",
              "}\n",
              "\n",
              "/**\n",
              " * Generator function which is called between each async step of the upload\n",
              " * process.\n",
              " * @param {string} inputId Element ID of the input file picker element.\n",
              " * @param {string} outputId Element ID of the output display.\n",
              " * @return {!Iterable<!Object>} Iterable of next steps.\n",
              " */\n",
              "function* uploadFilesStep(inputId, outputId) {\n",
              "  const inputElement = document.getElementById(inputId);\n",
              "  inputElement.disabled = false;\n",
              "\n",
              "  const outputElement = document.getElementById(outputId);\n",
              "  outputElement.innerHTML = '';\n",
              "\n",
              "  const pickedPromise = new Promise((resolve) => {\n",
              "    inputElement.addEventListener('change', (e) => {\n",
              "      resolve(e.target.files);\n",
              "    });\n",
              "  });\n",
              "\n",
              "  const cancel = document.createElement('button');\n",
              "  inputElement.parentElement.appendChild(cancel);\n",
              "  cancel.textContent = 'Cancel upload';\n",
              "  const cancelPromise = new Promise((resolve) => {\n",
              "    cancel.onclick = () => {\n",
              "      resolve(null);\n",
              "    };\n",
              "  });\n",
              "\n",
              "  // Wait for the user to pick the files.\n",
              "  const files = yield {\n",
              "    promise: Promise.race([pickedPromise, cancelPromise]),\n",
              "    response: {\n",
              "      action: 'starting',\n",
              "    }\n",
              "  };\n",
              "\n",
              "  cancel.remove();\n",
              "\n",
              "  // Disable the input element since further picks are not allowed.\n",
              "  inputElement.disabled = true;\n",
              "\n",
              "  if (!files) {\n",
              "    return {\n",
              "      response: {\n",
              "        action: 'complete',\n",
              "      }\n",
              "    };\n",
              "  }\n",
              "\n",
              "  for (const file of files) {\n",
              "    const li = document.createElement('li');\n",
              "    li.append(span(file.name, {fontWeight: 'bold'}));\n",
              "    li.append(span(\n",
              "        `(${file.type || 'n/a'}) - ${file.size} bytes, ` +\n",
              "        `last modified: ${\n",
              "            file.lastModifiedDate ? file.lastModifiedDate.toLocaleDateString() :\n",
              "                                    'n/a'} - `));\n",
              "    const percent = span('0% done');\n",
              "    li.appendChild(percent);\n",
              "\n",
              "    outputElement.appendChild(li);\n",
              "\n",
              "    const fileDataPromise = new Promise((resolve) => {\n",
              "      const reader = new FileReader();\n",
              "      reader.onload = (e) => {\n",
              "        resolve(e.target.result);\n",
              "      };\n",
              "      reader.readAsArrayBuffer(file);\n",
              "    });\n",
              "    // Wait for the data to be ready.\n",
              "    let fileData = yield {\n",
              "      promise: fileDataPromise,\n",
              "      response: {\n",
              "        action: 'continue',\n",
              "      }\n",
              "    };\n",
              "\n",
              "    // Use a chunked sending to avoid message size limits. See b/62115660.\n",
              "    let position = 0;\n",
              "    do {\n",
              "      const length = Math.min(fileData.byteLength - position, MAX_PAYLOAD_SIZE);\n",
              "      const chunk = new Uint8Array(fileData, position, length);\n",
              "      position += length;\n",
              "\n",
              "      const base64 = btoa(String.fromCharCode.apply(null, chunk));\n",
              "      yield {\n",
              "        response: {\n",
              "          action: 'append',\n",
              "          file: file.name,\n",
              "          data: base64,\n",
              "        },\n",
              "      };\n",
              "\n",
              "      let percentDone = fileData.byteLength === 0 ?\n",
              "          100 :\n",
              "          Math.round((position / fileData.byteLength) * 100);\n",
              "      percent.textContent = `${percentDone}% done`;\n",
              "\n",
              "    } while (position < fileData.byteLength);\n",
              "  }\n",
              "\n",
              "  // All done.\n",
              "  yield {\n",
              "    response: {\n",
              "      action: 'complete',\n",
              "    }\n",
              "  };\n",
              "}\n",
              "\n",
              "scope.google = scope.google || {};\n",
              "scope.google.colab = scope.google.colab || {};\n",
              "scope.google.colab._files = {\n",
              "  _uploadFiles,\n",
              "  _uploadFilesContinue,\n",
              "};\n",
              "})(self);\n",
              "</script> "
            ]
          },
          "metadata": {}
        },
        {
          "output_type": "stream",
          "name": "stdout",
          "text": [
            "Saving The Guardian League Table Main Table 2013-2021 (1).csv to The Guardian League Table Main Table 2013-2021 (1).csv\n"
          ]
        }
      ]
    },
    {
      "cell_type": "code",
      "execution_count": null,
      "id": "cfb574e2",
      "metadata": {
        "id": "cfb574e2"
      },
      "outputs": [],
      "source": [
        "df1 = pd.read_csv('The Guardian League Table Main Table 2013-2021 (1).csv')"
      ]
    },
    {
      "cell_type": "code",
      "execution_count": null,
      "id": "4d59589d",
      "metadata": {
        "colab": {
          "base_uri": "https://localhost:8080/",
          "height": 476
        },
        "id": "4d59589d",
        "outputId": "cd8fe5d1-d933-4b06-f493-c01deaf6eb3a"
      },
      "outputs": [
        {
          "output_type": "execute_result",
          "data": {
            "text/plain": [
              "   year  rank  last year rank                 institution  \\\n",
              "0  2021     1             3.0                      Oxford   \n",
              "1  2021     2             2.0                  St Andrews   \n",
              "2  2021     3             1.0                   Cambridge   \n",
              "3  2021     4             5.0                      Durham   \n",
              "4  2021     5            19.0  London School of Economics   \n",
              "5  2021     6             6.0                        Bath   \n",
              "6  2021     7             4.0                Loughborough   \n",
              "7  2021     8             9.0                     Warwick   \n",
              "8  2021     9             7.0            Imperial College   \n",
              "9  2021    10             7.0                   Lancaster   \n",
              "\n",
              "   guardian score / 100  Satisfiend with course  Satisfied with teaching  \\\n",
              "0                 100.0                     NaN                      NaN   \n",
              "1                  98.0                    94.0                     93.0   \n",
              "2                  95.4                     NaN                      NaN   \n",
              "3                  81.5                    86.1                     85.3   \n",
              "4                  81.0                    80.6                     81.6   \n",
              "5                  80.1                    87.7                     86.3   \n",
              "6                  79.3                    89.6                     86.9   \n",
              "7                  77.1                    86.2                     85.0   \n",
              "8                  74.4                    81.6                     83.6   \n",
              "9                  73.1                    86.9                     85.0   \n",
              "\n",
              "   Satisfiend with feedback  Student to Staff Ratio  Spend per student /10  \\\n",
              "0                       NaN                    10.3                   10.0   \n",
              "1                      80.8                    11.2                    7.0   \n",
              "2                       NaN                    11.2                    9.9   \n",
              "3                      71.8                    14.7                    5.9   \n",
              "4                      69.4                    11.9                    8.9   \n",
              "5                      67.0                    14.9                    6.3   \n",
              "6                      73.9                    13.4                    5.7   \n",
              "7                      71.6                    13.8                    7.3   \n",
              "8                      60.7                    11.1                    8.8   \n",
              "9                      70.1                    12.5                    8.1   \n",
              "\n",
              "   Average Entry tariff  Value Added score /10  Career After 6 months  \\\n",
              "0                 203.0                    7.1                   93.0   \n",
              "1                 211.0                    6.3                   84.0   \n",
              "2                 212.0                    5.4                   93.0   \n",
              "3                 188.0                    7.0                   89.0   \n",
              "4                 170.0                    6.9                   93.0   \n",
              "5                 174.0                    7.1                   91.0   \n",
              "6                 153.0                    6.3                   85.0   \n",
              "7                 172.0                    6.3                   88.0   \n",
              "8                 190.0                    5.6                   96.0   \n",
              "9                 150.0                    5.2                   84.0   \n",
              "\n",
              "   Continuation  \n",
              "0          99.0  \n",
              "1          97.0  \n",
              "2          99.0  \n",
              "3          98.0  \n",
              "4          97.0  \n",
              "5          97.0  \n",
              "6          96.0  \n",
              "7          96.0  \n",
              "8          95.0  \n",
              "9          96.0  "
            ],
            "text/html": [
              "\n",
              "  <div id=\"df-2e7af70e-bcc7-4fb8-ae47-8816466009b7\">\n",
              "    <div class=\"colab-df-container\">\n",
              "      <div>\n",
              "<style scoped>\n",
              "    .dataframe tbody tr th:only-of-type {\n",
              "        vertical-align: middle;\n",
              "    }\n",
              "\n",
              "    .dataframe tbody tr th {\n",
              "        vertical-align: top;\n",
              "    }\n",
              "\n",
              "    .dataframe thead th {\n",
              "        text-align: right;\n",
              "    }\n",
              "</style>\n",
              "<table border=\"1\" class=\"dataframe\">\n",
              "  <thead>\n",
              "    <tr style=\"text-align: right;\">\n",
              "      <th></th>\n",
              "      <th>year</th>\n",
              "      <th>rank</th>\n",
              "      <th>last year rank</th>\n",
              "      <th>institution</th>\n",
              "      <th>guardian score / 100</th>\n",
              "      <th>Satisfiend with course</th>\n",
              "      <th>Satisfied with teaching</th>\n",
              "      <th>Satisfiend with feedback</th>\n",
              "      <th>Student to Staff Ratio</th>\n",
              "      <th>Spend per student /10</th>\n",
              "      <th>Average Entry tariff</th>\n",
              "      <th>Value Added score /10</th>\n",
              "      <th>Career After 6 months</th>\n",
              "      <th>Continuation</th>\n",
              "    </tr>\n",
              "  </thead>\n",
              "  <tbody>\n",
              "    <tr>\n",
              "      <th>0</th>\n",
              "      <td>2021</td>\n",
              "      <td>1</td>\n",
              "      <td>3.0</td>\n",
              "      <td>Oxford</td>\n",
              "      <td>100.0</td>\n",
              "      <td>NaN</td>\n",
              "      <td>NaN</td>\n",
              "      <td>NaN</td>\n",
              "      <td>10.3</td>\n",
              "      <td>10.0</td>\n",
              "      <td>203.0</td>\n",
              "      <td>7.1</td>\n",
              "      <td>93.0</td>\n",
              "      <td>99.0</td>\n",
              "    </tr>\n",
              "    <tr>\n",
              "      <th>1</th>\n",
              "      <td>2021</td>\n",
              "      <td>2</td>\n",
              "      <td>2.0</td>\n",
              "      <td>St Andrews</td>\n",
              "      <td>98.0</td>\n",
              "      <td>94.0</td>\n",
              "      <td>93.0</td>\n",
              "      <td>80.8</td>\n",
              "      <td>11.2</td>\n",
              "      <td>7.0</td>\n",
              "      <td>211.0</td>\n",
              "      <td>6.3</td>\n",
              "      <td>84.0</td>\n",
              "      <td>97.0</td>\n",
              "    </tr>\n",
              "    <tr>\n",
              "      <th>2</th>\n",
              "      <td>2021</td>\n",
              "      <td>3</td>\n",
              "      <td>1.0</td>\n",
              "      <td>Cambridge</td>\n",
              "      <td>95.4</td>\n",
              "      <td>NaN</td>\n",
              "      <td>NaN</td>\n",
              "      <td>NaN</td>\n",
              "      <td>11.2</td>\n",
              "      <td>9.9</td>\n",
              "      <td>212.0</td>\n",
              "      <td>5.4</td>\n",
              "      <td>93.0</td>\n",
              "      <td>99.0</td>\n",
              "    </tr>\n",
              "    <tr>\n",
              "      <th>3</th>\n",
              "      <td>2021</td>\n",
              "      <td>4</td>\n",
              "      <td>5.0</td>\n",
              "      <td>Durham</td>\n",
              "      <td>81.5</td>\n",
              "      <td>86.1</td>\n",
              "      <td>85.3</td>\n",
              "      <td>71.8</td>\n",
              "      <td>14.7</td>\n",
              "      <td>5.9</td>\n",
              "      <td>188.0</td>\n",
              "      <td>7.0</td>\n",
              "      <td>89.0</td>\n",
              "      <td>98.0</td>\n",
              "    </tr>\n",
              "    <tr>\n",
              "      <th>4</th>\n",
              "      <td>2021</td>\n",
              "      <td>5</td>\n",
              "      <td>19.0</td>\n",
              "      <td>London School of Economics</td>\n",
              "      <td>81.0</td>\n",
              "      <td>80.6</td>\n",
              "      <td>81.6</td>\n",
              "      <td>69.4</td>\n",
              "      <td>11.9</td>\n",
              "      <td>8.9</td>\n",
              "      <td>170.0</td>\n",
              "      <td>6.9</td>\n",
              "      <td>93.0</td>\n",
              "      <td>97.0</td>\n",
              "    </tr>\n",
              "    <tr>\n",
              "      <th>5</th>\n",
              "      <td>2021</td>\n",
              "      <td>6</td>\n",
              "      <td>6.0</td>\n",
              "      <td>Bath</td>\n",
              "      <td>80.1</td>\n",
              "      <td>87.7</td>\n",
              "      <td>86.3</td>\n",
              "      <td>67.0</td>\n",
              "      <td>14.9</td>\n",
              "      <td>6.3</td>\n",
              "      <td>174.0</td>\n",
              "      <td>7.1</td>\n",
              "      <td>91.0</td>\n",
              "      <td>97.0</td>\n",
              "    </tr>\n",
              "    <tr>\n",
              "      <th>6</th>\n",
              "      <td>2021</td>\n",
              "      <td>7</td>\n",
              "      <td>4.0</td>\n",
              "      <td>Loughborough</td>\n",
              "      <td>79.3</td>\n",
              "      <td>89.6</td>\n",
              "      <td>86.9</td>\n",
              "      <td>73.9</td>\n",
              "      <td>13.4</td>\n",
              "      <td>5.7</td>\n",
              "      <td>153.0</td>\n",
              "      <td>6.3</td>\n",
              "      <td>85.0</td>\n",
              "      <td>96.0</td>\n",
              "    </tr>\n",
              "    <tr>\n",
              "      <th>7</th>\n",
              "      <td>2021</td>\n",
              "      <td>8</td>\n",
              "      <td>9.0</td>\n",
              "      <td>Warwick</td>\n",
              "      <td>77.1</td>\n",
              "      <td>86.2</td>\n",
              "      <td>85.0</td>\n",
              "      <td>71.6</td>\n",
              "      <td>13.8</td>\n",
              "      <td>7.3</td>\n",
              "      <td>172.0</td>\n",
              "      <td>6.3</td>\n",
              "      <td>88.0</td>\n",
              "      <td>96.0</td>\n",
              "    </tr>\n",
              "    <tr>\n",
              "      <th>8</th>\n",
              "      <td>2021</td>\n",
              "      <td>9</td>\n",
              "      <td>7.0</td>\n",
              "      <td>Imperial College</td>\n",
              "      <td>74.4</td>\n",
              "      <td>81.6</td>\n",
              "      <td>83.6</td>\n",
              "      <td>60.7</td>\n",
              "      <td>11.1</td>\n",
              "      <td>8.8</td>\n",
              "      <td>190.0</td>\n",
              "      <td>5.6</td>\n",
              "      <td>96.0</td>\n",
              "      <td>95.0</td>\n",
              "    </tr>\n",
              "    <tr>\n",
              "      <th>9</th>\n",
              "      <td>2021</td>\n",
              "      <td>10</td>\n",
              "      <td>7.0</td>\n",
              "      <td>Lancaster</td>\n",
              "      <td>73.1</td>\n",
              "      <td>86.9</td>\n",
              "      <td>85.0</td>\n",
              "      <td>70.1</td>\n",
              "      <td>12.5</td>\n",
              "      <td>8.1</td>\n",
              "      <td>150.0</td>\n",
              "      <td>5.2</td>\n",
              "      <td>84.0</td>\n",
              "      <td>96.0</td>\n",
              "    </tr>\n",
              "  </tbody>\n",
              "</table>\n",
              "</div>\n",
              "      <button class=\"colab-df-convert\" onclick=\"convertToInteractive('df-2e7af70e-bcc7-4fb8-ae47-8816466009b7')\"\n",
              "              title=\"Convert this dataframe to an interactive table.\"\n",
              "              style=\"display:none;\">\n",
              "        \n",
              "  <svg xmlns=\"http://www.w3.org/2000/svg\" height=\"24px\"viewBox=\"0 0 24 24\"\n",
              "       width=\"24px\">\n",
              "    <path d=\"M0 0h24v24H0V0z\" fill=\"none\"/>\n",
              "    <path d=\"M18.56 5.44l.94 2.06.94-2.06 2.06-.94-2.06-.94-.94-2.06-.94 2.06-2.06.94zm-11 1L8.5 8.5l.94-2.06 2.06-.94-2.06-.94L8.5 2.5l-.94 2.06-2.06.94zm10 10l.94 2.06.94-2.06 2.06-.94-2.06-.94-.94-2.06-.94 2.06-2.06.94z\"/><path d=\"M17.41 7.96l-1.37-1.37c-.4-.4-.92-.59-1.43-.59-.52 0-1.04.2-1.43.59L10.3 9.45l-7.72 7.72c-.78.78-.78 2.05 0 2.83L4 21.41c.39.39.9.59 1.41.59.51 0 1.02-.2 1.41-.59l7.78-7.78 2.81-2.81c.8-.78.8-2.07 0-2.86zM5.41 20L4 18.59l7.72-7.72 1.47 1.35L5.41 20z\"/>\n",
              "  </svg>\n",
              "      </button>\n",
              "      \n",
              "  <style>\n",
              "    .colab-df-container {\n",
              "      display:flex;\n",
              "      flex-wrap:wrap;\n",
              "      gap: 12px;\n",
              "    }\n",
              "\n",
              "    .colab-df-convert {\n",
              "      background-color: #E8F0FE;\n",
              "      border: none;\n",
              "      border-radius: 50%;\n",
              "      cursor: pointer;\n",
              "      display: none;\n",
              "      fill: #1967D2;\n",
              "      height: 32px;\n",
              "      padding: 0 0 0 0;\n",
              "      width: 32px;\n",
              "    }\n",
              "\n",
              "    .colab-df-convert:hover {\n",
              "      background-color: #E2EBFA;\n",
              "      box-shadow: 0px 1px 2px rgba(60, 64, 67, 0.3), 0px 1px 3px 1px rgba(60, 64, 67, 0.15);\n",
              "      fill: #174EA6;\n",
              "    }\n",
              "\n",
              "    [theme=dark] .colab-df-convert {\n",
              "      background-color: #3B4455;\n",
              "      fill: #D2E3FC;\n",
              "    }\n",
              "\n",
              "    [theme=dark] .colab-df-convert:hover {\n",
              "      background-color: #434B5C;\n",
              "      box-shadow: 0px 1px 3px 1px rgba(0, 0, 0, 0.15);\n",
              "      filter: drop-shadow(0px 1px 2px rgba(0, 0, 0, 0.3));\n",
              "      fill: #FFFFFF;\n",
              "    }\n",
              "  </style>\n",
              "\n",
              "      <script>\n",
              "        const buttonEl =\n",
              "          document.querySelector('#df-2e7af70e-bcc7-4fb8-ae47-8816466009b7 button.colab-df-convert');\n",
              "        buttonEl.style.display =\n",
              "          google.colab.kernel.accessAllowed ? 'block' : 'none';\n",
              "\n",
              "        async function convertToInteractive(key) {\n",
              "          const element = document.querySelector('#df-2e7af70e-bcc7-4fb8-ae47-8816466009b7');\n",
              "          const dataTable =\n",
              "            await google.colab.kernel.invokeFunction('convertToInteractive',\n",
              "                                                     [key], {});\n",
              "          if (!dataTable) return;\n",
              "\n",
              "          const docLinkHtml = 'Like what you see? Visit the ' +\n",
              "            '<a target=\"_blank\" href=https://colab.research.google.com/notebooks/data_table.ipynb>data table notebook</a>'\n",
              "            + ' to learn more about interactive tables.';\n",
              "          element.innerHTML = '';\n",
              "          dataTable['output_type'] = 'display_data';\n",
              "          await google.colab.output.renderOutput(dataTable, element);\n",
              "          const docLink = document.createElement('div');\n",
              "          docLink.innerHTML = docLinkHtml;\n",
              "          element.appendChild(docLink);\n",
              "        }\n",
              "      </script>\n",
              "    </div>\n",
              "  </div>\n",
              "  "
            ]
          },
          "metadata": {},
          "execution_count": 81
        }
      ],
      "source": [
        "df1.head(10)"
      ]
    },
    {
      "cell_type": "code",
      "source": [
        "df1.columns"
      ],
      "metadata": {
        "colab": {
          "base_uri": "https://localhost:8080/"
        },
        "id": "4ha-4U7LAlw5",
        "outputId": "8162affc-29dd-41fd-8825-5a38a78b448f"
      },
      "id": "4ha-4U7LAlw5",
      "execution_count": null,
      "outputs": [
        {
          "output_type": "execute_result",
          "data": {
            "text/plain": [
              "Index(['year', 'rank', 'last year rank', 'institution', 'guardian score / 100',\n",
              "       'Satisfiend with course', 'Satisfied with teaching',\n",
              "       'Satisfiend with feedback', 'Student to Staff Ratio',\n",
              "       'Spend per student /10', 'Average Entry tariff',\n",
              "       'Value Added score /10', 'Career After 6 months', 'Continuation'],\n",
              "      dtype='object')"
            ]
          },
          "metadata": {},
          "execution_count": 82
        }
      ]
    },
    {
      "cell_type": "code",
      "execution_count": null,
      "id": "c25a416a",
      "metadata": {
        "id": "c25a416a"
      },
      "outputs": [],
      "source": [
        "df2 = df1.drop(['year','rank','last year rank','institution'],axis = 'columns')"
      ]
    },
    {
      "cell_type": "code",
      "source": [
        "df2.columns"
      ],
      "metadata": {
        "colab": {
          "base_uri": "https://localhost:8080/"
        },
        "id": "VXUYSpZwF-du",
        "outputId": "f575c67c-581d-4955-dfcf-9b0af536a3d5"
      },
      "id": "VXUYSpZwF-du",
      "execution_count": null,
      "outputs": [
        {
          "output_type": "execute_result",
          "data": {
            "text/plain": [
              "Index(['guardian score / 100', 'Satisfiend with course',\n",
              "       'Satisfied with teaching', 'Satisfiend with feedback',\n",
              "       'Student to Staff Ratio', 'Spend per student /10',\n",
              "       'Average Entry tariff', 'Value Added score /10',\n",
              "       'Career After 6 months', 'Continuation'],\n",
              "      dtype='object')"
            ]
          },
          "metadata": {},
          "execution_count": 188
        }
      ]
    },
    {
      "cell_type": "code",
      "source": [
        "df2.isnull().sum()\n"
      ],
      "metadata": {
        "colab": {
          "base_uri": "https://localhost:8080/"
        },
        "id": "5WDm7_veCLXb",
        "outputId": "2901d4b8-32a4-4a98-ea8f-203f126bb776"
      },
      "id": "5WDm7_veCLXb",
      "execution_count": null,
      "outputs": [
        {
          "output_type": "execute_result",
          "data": {
            "text/plain": [
              "guardian score / 100          0\n",
              "Satisfiend with course        5\n",
              "Satisfied with teaching       5\n",
              "Satisfiend with feedback      5\n",
              "Student to Staff Ratio        0\n",
              "Spend per student /10         6\n",
              "Average Entry tariff          1\n",
              "Value Added score /10         1\n",
              "Career After 6 months         0\n",
              "Continuation                835\n",
              "dtype: int64"
            ]
          },
          "metadata": {},
          "execution_count": 189
        }
      ]
    },
    {
      "cell_type": "code",
      "source": [
        "df3 = df2.fillna(df2.median())"
      ],
      "metadata": {
        "id": "rnp-AVCxGvpw"
      },
      "id": "rnp-AVCxGvpw",
      "execution_count": null,
      "outputs": []
    },
    {
      "cell_type": "code",
      "source": [
        "df3.isnull().sum()"
      ],
      "metadata": {
        "colab": {
          "base_uri": "https://localhost:8080/"
        },
        "id": "ZKpirhEUHbGw",
        "outputId": "9158de0d-0482-4bd3-e3bc-f0d8a904a240"
      },
      "id": "ZKpirhEUHbGw",
      "execution_count": null,
      "outputs": [
        {
          "output_type": "execute_result",
          "data": {
            "text/plain": [
              "guardian score / 100        0\n",
              "Satisfiend with course      0\n",
              "Satisfied with teaching     0\n",
              "Satisfiend with feedback    0\n",
              "Student to Staff Ratio      0\n",
              "Spend per student /10       0\n",
              "Average Entry tariff        0\n",
              "Value Added score /10       0\n",
              "Career After 6 months       0\n",
              "Continuation                0\n",
              "dtype: int64"
            ]
          },
          "metadata": {},
          "execution_count": 191
        }
      ]
    },
    {
      "cell_type": "code",
      "source": [
        "x = df3\n",
        "y=df1['rank']"
      ],
      "metadata": {
        "id": "ZHjw9yxIJX_e"
      },
      "id": "ZHjw9yxIJX_e",
      "execution_count": null,
      "outputs": []
    },
    {
      "cell_type": "code",
      "execution_count": null,
      "id": "f635751f",
      "metadata": {
        "id": "f635751f"
      },
      "outputs": [],
      "source": [
        "from sklearn.model_selection import train_test_split\n",
        "X_train, X_test, y_train, y_test = train_test_split(x,y,test_size=0.3,random_state =1)"
      ]
    },
    {
      "cell_type": "code",
      "execution_count": null,
      "id": "716a9b43",
      "metadata": {
        "id": "716a9b43",
        "colab": {
          "base_uri": "https://localhost:8080/"
        },
        "outputId": "c9687a17-9a82-42de-8ee4-6e54350545a6"
      },
      "outputs": [
        {
          "output_type": "execute_result",
          "data": {
            "text/plain": [
              "0.8987776209643101"
            ]
          },
          "metadata": {},
          "execution_count": 249
        }
      ],
      "source": [
        "from sklearn.linear_model import LinearRegression\n",
        "lr_clf = LinearRegression()\n",
        "lr_clf.fit(X_train,y_train)\n",
        "lr_clf.score(X_test,y_test)\n"
      ]
    },
    {
      "cell_type": "code",
      "execution_count": null,
      "id": "16cf577d",
      "metadata": {
        "id": "16cf577d",
        "colab": {
          "base_uri": "https://localhost:8080/"
        },
        "outputId": "08a979ae-7934-432d-c3d8-1676977e55a8"
      },
      "outputs": [
        {
          "output_type": "execute_result",
          "data": {
            "text/plain": [
              "Index(['guardian score / 100', 'Satisfiend with course',\n",
              "       'Satisfied with teaching', 'Satisfiend with feedback',\n",
              "       'Student to Staff Ratio', 'Spend per student /10',\n",
              "       'Average Entry tariff', 'Value Added score /10',\n",
              "       'Career After 6 months', 'Continuation'],\n",
              "      dtype='object')"
            ]
          },
          "metadata": {},
          "execution_count": 250
        }
      ],
      "source": [
        "X_test.columns"
      ]
    },
    {
      "cell_type": "code",
      "source": [
        "def predict_rank(guardian_score,Satisfiend_with_course,Satisfied_with_teaching,Satisfiend_with_feedback,\n",
        "       Student_to_Staff_Ratio, Spend_per_student,Average_Entry_tariff,Value_Added_score,Career_After_6_months,Continuation):    \n",
        "\n",
        "    r = np.zeros(len(x.columns))\n",
        "    r[0] = guardian_score\n",
        "    r[1] = Satisfiend_with_course\n",
        "    r[2] = Satisfied_with_teaching\n",
        "    r[3] = Satisfiend_with_feedback\n",
        "    r[4] = Student_to_Staff_Ratio\n",
        "    r[5] = Spend_per_student\n",
        "    r[6] = Average_Entry_tariff\n",
        "    r[7] = Value_Added_score\n",
        "    r[8] = Career_After_6_months\n",
        "    r[9] = Continuation\n",
        "\n",
        "    return lr_clf.predict([r])[0]"
      ],
      "metadata": {
        "id": "uH1yHIhILj0p"
      },
      "id": "uH1yHIhILj0p",
      "execution_count": null,
      "outputs": []
    },
    {
      "cell_type": "code",
      "source": [
        "predict_rank(81.5,86.1,85.3,71.8,14.7,5.9,188,7,89,98)"
      ],
      "metadata": {
        "colab": {
          "base_uri": "https://localhost:8080/"
        },
        "id": "mXu10Ia2Mm3l",
        "outputId": "fd8a379e-905c-4413-89b9-459bf4cc4034"
      },
      "id": "mXu10Ia2Mm3l",
      "execution_count": null,
      "outputs": [
        {
          "output_type": "stream",
          "name": "stderr",
          "text": [
            "/usr/local/lib/python3.7/dist-packages/sklearn/base.py:451: UserWarning: X does not have valid feature names, but LinearRegression was fitted with feature names\n",
            "  \"X does not have valid feature names, but\"\n"
          ]
        },
        {
          "output_type": "execute_result",
          "data": {
            "text/plain": [
              "4.034407029715453"
            ]
          },
          "metadata": {},
          "execution_count": 252
        }
      ]
    },
    {
      "cell_type": "code",
      "source": [
        "predict_rank(61.4,84,85,71,14.1,7.5,159,5.7,81,95)"
      ],
      "metadata": {
        "colab": {
          "base_uri": "https://localhost:8080/"
        },
        "id": "RJIEgxZYOZCs",
        "outputId": "d9174d4f-cbf6-4dfa-9c5a-7868354d25a7"
      },
      "id": "RJIEgxZYOZCs",
      "execution_count": null,
      "outputs": [
        {
          "output_type": "stream",
          "name": "stderr",
          "text": [
            "/usr/local/lib/python3.7/dist-packages/sklearn/base.py:451: UserWarning: X does not have valid feature names, but LinearRegression was fitted with feature names\n",
            "  \"X does not have valid feature names, but\"\n"
          ]
        },
        {
          "output_type": "execute_result",
          "data": {
            "text/plain": [
              "46.9436713306398"
            ]
          },
          "metadata": {},
          "execution_count": 253
        }
      ]
    },
    {
      "cell_type": "code",
      "source": [
        "predict_rank(56,94,93,80.8,11.2,7,\t211,\t6.3,\t84,\t97)"
      ],
      "metadata": {
        "colab": {
          "base_uri": "https://localhost:8080/"
        },
        "id": "0WWZK1RgSXC9",
        "outputId": "12717f6f-1539-47bd-903c-0962b96aa263"
      },
      "id": "0WWZK1RgSXC9",
      "execution_count": null,
      "outputs": [
        {
          "output_type": "stream",
          "name": "stderr",
          "text": [
            "/usr/local/lib/python3.7/dist-packages/sklearn/base.py:451: UserWarning: X does not have valid feature names, but LinearRegression was fitted with feature names\n",
            "  \"X does not have valid feature names, but\"\n"
          ]
        },
        {
          "output_type": "execute_result",
          "data": {
            "text/plain": [
              "47.33658026559675"
            ]
          },
          "metadata": {},
          "execution_count": 254
        }
      ]
    },
    {
      "cell_type": "code",
      "source": [],
      "metadata": {
        "id": "CFG8EGnASw06"
      },
      "id": "CFG8EGnASw06",
      "execution_count": null,
      "outputs": []
    }
  ],
  "metadata": {
    "kernelspec": {
      "display_name": "Python 3 (ipykernel)",
      "language": "python",
      "name": "python3"
    },
    "language_info": {
      "codemirror_mode": {
        "name": "ipython",
        "version": 3
      },
      "file_extension": ".py",
      "mimetype": "text/x-python",
      "name": "python",
      "nbconvert_exporter": "python",
      "pygments_lexer": "ipython3",
      "version": "3.9.12"
    },
    "colab": {
      "provenance": []
    }
  },
  "nbformat": 4,
  "nbformat_minor": 5
}